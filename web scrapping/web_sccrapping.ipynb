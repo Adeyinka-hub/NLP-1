{
  "nbformat": 4,
  "nbformat_minor": 0,
  "metadata": {
    "colab": {
      "name": "web sccrapping",
      "version": "0.3.2",
      "provenance": [],
      "collapsed_sections": [],
      "include_colab_link": true
    },
    "kernelspec": {
      "display_name": "Python 3",
      "name": "python3"
    }
  },
  "cells": [
    {
      "cell_type": "markdown",
      "metadata": {
        "id": "view-in-github",
        "colab_type": "text"
      },
      "source": [
        "<a href=\"https://colab.research.google.com/github/sumitc29/NLP/blob/master/web%20scrapping/web_sccrapping.ipynb\" target=\"_parent\"><img src=\"https://colab.research.google.com/assets/colab-badge.svg\" alt=\"Open In Colab\"/></a>"
      ]
    },
    {
      "cell_type": "markdown",
      "metadata": {
        "id": "bBExJKz1WoMX",
        "colab_type": "text"
      },
      "source": [
        "[link text](https://github.com/codingforentrepreneurs/Web-Scraping/blob/master/src/scrape1.py)\n",
        "\n",
        "[link2](https://www.crummy.com/software/BeautifulSoup/bs4/doc/)"
      ]
    },
    {
      "cell_type": "code",
      "metadata": {
        "id": "1H41F5Kgh46t",
        "colab_type": "code",
        "outputId": "93265e87-1eef-4453-de4e-78ea3af3862b",
        "colab": {
          "base_uri": "https://localhost:8080/",
          "height": 72
        }
      },
      "source": [
        "\"\"\"Parsing HTML pages\"\"\"\n",
        "import csv\n",
        "import datetime\n",
        "import os\n",
        "import requests\n",
        "from bs4 import BeautifulSoup\n",
        "from urllib.parse import urlparse\n",
        "from collections import Counter\n",
        "\n",
        "my_url = 'https://www.flipkart.com/mobiles/mi~brand/pr?sid=tyy,4io&otracker=nmenu_sub_Electronics_0_Mi' \n",
        "\n",
        "print(\"Grabbing...\", my_url)\n",
        "domain = urlparse(my_url).netloc # domain name\n",
        "print(\"via domain\", domain)\n",
        "\n",
        "response = requests.get(my_url) # go to the url and get it\n",
        "print(\"Status is\", response.status_code) # 200, 403, 404, 500, 503"
      ],
      "execution_count": 34,
      "outputs": [
        {
          "output_type": "stream",
          "text": [
            "Grabbing... https://www.flipkart.com/mobiles/mi~brand/pr?sid=tyy,4io&otracker=nmenu_sub_Electronics_0_Mi\n",
            "via domain www.flipkart.com\n",
            "Status is 200\n"
          ],
          "name": "stdout"
        }
      ]
    },
    {
      "cell_type": "code",
      "metadata": {
        "id": "QZ7fzqUYiUXB",
        "colab_type": "code",
        "colab": {}
      },
      "source": [
        "\"\"\"creating soup\"\"\"\n",
        "html=response.text\n",
        "soup=BeautifulSoup(html, \"html.parser\")"
      ],
      "execution_count": 0,
      "outputs": []
    },
    {
      "cell_type": "code",
      "metadata": {
        "id": "b81odigWkutd",
        "colab_type": "code",
        "outputId": "9425cb3f-8431-4f52-c902-500e00043b3c",
        "colab": {
          "base_uri": "https://localhost:8080/",
          "height": 454
        }
      },
      "source": [
        "for each in soup.find_all(class_='_3wU53n'):\n",
        "  print(each.get_text())"
      ],
      "execution_count": 20,
      "outputs": [
        {
          "output_type": "stream",
          "text": [
            "Redmi 7A (Matte Blue, 32 GB)\n",
            "Redmi 7A (Matte Black, 32 GB)\n",
            "Redmi Note 7 Pro (Space Black, 64 GB)\n",
            "Redmi 7A (Matte Black, 16 GB)\n",
            "Redmi Note 7 Pro (Neptune Blue, 64 GB)\n",
            "Redmi 6 (Gold, 64 GB)\n",
            "Redmi Note 7S (Sapphire Blue, 64 GB)\n",
            "Redmi Note 7S (Onyx Black, 64 GB)\n",
            "Redmi Note 7S (Onyx Black, 32 GB)\n",
            "Redmi Note 7S (Sapphire Blue, 32 GB)\n",
            "Redmi 7A (Matte Gold, 16 GB)\n",
            "Redmi Note 7 Pro (Neptune Blue, 128 GB)\n",
            "Redmi 6 (Blue, 64 GB)\n",
            "Redmi 6 (Rose Gold, 64 GB)\n",
            "Redmi 7A (Matte Blue, 16 GB)\n",
            "Redmi Note 7S (Ruby Red, 32 GB)\n",
            "Redmi K20 Pro (Flame Red, 128 GB)\n",
            "Redmi 6 (Black, 64 GB)\n",
            "Redmi Note 7S (Ruby Red, 64 GB)\n",
            "Redmi K20 Pro (Carbon Black, 128 GB)\n",
            "Redmi Y2 (Black, 64 GB)\n",
            "Redmi K20 Pro (Carbon Black, 256 GB)\n",
            "Redmi K20 (Glacier Blue, 64 GB)\n",
            "Redmi K20 (Flame Red, 64 GB)\n"
          ],
          "name": "stdout"
        }
      ]
    },
    {
      "cell_type": "code",
      "metadata": {
        "id": "Msj4BUiNrmPM",
        "colab_type": "code",
        "colab": {
          "base_uri": "https://localhost:8080/",
          "height": 474
        },
        "outputId": "11a47fa1-0f32-4f8e-f920-553734aa8fcb"
      },
      "source": [
        "\"\"\"getting detail of each phone \"\"\"\n",
        "for each in soup.find_all(class_='col col-7-12'):\n",
        "  print(each.get_text())"
      ],
      "execution_count": 22,
      "outputs": [
        {
          "output_type": "stream",
          "text": [
            "Redmi 7A (Matte Blue, 32 GB)4.63,205 Ratings & 185 Reviews2 GB RAM | 32 GB ROM | Expandable Upto 256 GB13.84 cm (5.45 inch) HD+ Display12MP Rear Camera | 5MP Front Camera4000 mAh Li-Polymer BatteryQualcomm Snapdragon 439 ProcessorBrand Warranty of 2 Years Available for Mobile and 6 Months for Accessories\n",
            "Redmi 7A (Matte Black, 32 GB)4.63,205 Ratings & 185 Reviews2 GB RAM | 32 GB ROM | Expandable Upto 256 GB13.84 cm (5.45 inch) HD+ Display12MP Rear Camera | 5MP Front Camera4000 mAh Li-Polymer BatteryQualcomm Snapdragon 439 ProcessorBrand Warranty of 2 Years Available for Mobile and 6 Months for Accessories\n",
            "Redmi Note 7 Pro (Space Black, 64 GB)4.53,03,779 Ratings & 29,355 Reviews4 GB RAM | 64 GB ROM | Expandable Upto 256 GB16.0 cm (6.3 inch) FHD+ Display48MP + 5MP | 13MP Front Camera4000 mAh Li-polymer BatteryQualcomm Snapdragon 675 ProcessorSplash Proof - Protected by P2iQuick Charge 4.0 SupportBrand Warranty of 1 Year Available for Mobile and 6 Months for Accessories\n",
            "Redmi 7A (Matte Black, 16 GB)4.63,205 Ratings & 185 Reviews2 GB RAM | 16 GB ROM | Expandable Upto 256 GB13.84 cm (5.45 inch) HD+ Display12MP Rear Camera | 5MP Front Camera4000 mAh Li-Polymer BatteryQualcomm Snapdragon 439 ProcessorBrand Warranty of 2 Years Available for Mobile and 6 Months for Accessories\n",
            "Redmi Note 7 Pro (Neptune Blue, 64 GB)4.53,03,779 Ratings & 29,355 Reviews4 GB RAM | 64 GB ROM | Expandable Upto 256 GB16.0 cm (6.3 inch) FHD+ Display48MP + 5MP | 13MP Front Camera4000 mAh Li-polymer BatteryQualcomm Snapdragon 675 ProcessorSplash Proof - Protected by P2iQuick Charge 4.0 SupportBrand Warranty of 1 Year Available for Mobile and 6 Months for Accessories\n",
            "Redmi 6 (Gold, 64 GB)4.44,51,001 Ratings & 34,443 Reviews3 GB RAM | 64 GB ROM | Expandable Upto 256 GB13.84 cm (5.45 inch) HD+ Display12MP + 5MP | 5MP Front Camera3000 mAh Lithium-polymer Battery2.0 GHz Mediatek P22 Octacore ProcessorBrand Warranty of 1 Year Available for Mobile and 6 Months for Accessories\n",
            "Redmi Note 7S (Sapphire Blue, 64 GB)4.420,655 Ratings & 1,649 Reviews4 GB RAM | 64 GB ROM | Expandable Upto 256 GB16.0 cm (6.3 inch) FHD+ Display48MP + 5MP | 13MP Front Camera4000 mAh BatteryQualcomm Snapdragon 660 AIE ProcessorSplash Proof - Protected by P2iQuick Charge 4.0 SupportBrand Warranty of 1 Year Available for Mobile and 6 Months for Accessories\n",
            "Redmi Note 7S (Onyx Black, 64 GB)4.420,655 Ratings & 1,649 Reviews4 GB RAM | 64 GB ROM | Expandable Upto 256 GB16.0 cm (6.3 inch) FHD+ Display48MP + 5MP | 13MP Front Camera4000 mAh BatteryQualcomm Snapdragon 660 AIE ProcessorSplash Proof - Protected by P2iQuick Charge 4.0 SupportBrand Warranty of 1 Year Available for Mobile and 6 Months for Accessories\n",
            "Redmi Note 7S (Onyx Black, 32 GB)4.478,784 Ratings & 7,313 Reviews3 GB RAM | 32 GB ROM | Expandable Upto 256 GB16.0 cm (6.3 inch) FHD+ Display48MP + 5MP | 13MP Front Camera4000 mAh BatteryQualcomm Snapdragon 660 AIE ProcessorSplash Proof - Protected by P2iQuick Charge 4.0 SupportBrand Warranty of 1 Year Available for Mobile and 6 Months for Accessories\n",
            "Redmi Note 7S (Sapphire Blue, 32 GB)4.478,784 Ratings & 7,313 Reviews3 GB RAM | 32 GB ROM | Expandable Upto 256 GB16.0 cm (6.3 inch) FHD+ Display48MP + 5MP | 13MP Front Camera4000 mAh BatteryQualcomm Snapdragon 660 AIE ProcessorSplash Proof - Protected by P2iQuick Charge 4.0 SupportBrand Warranty of 1 Year Available for Mobile and 6 Months for Accessories\n",
            "Redmi 7A (Matte Gold, 16 GB)4.63,205 Ratings & 185 Reviews2 GB RAM | 16 GB ROM | Expandable Upto 256 GB13.84 cm (5.45 inch) HD+ Display12MP Rear Camera | 5MP Front Camera4000 mAh Li-Polymer BatteryQualcomm Snapdragon 439 ProcessorBrand Warranty of 2 Years Available for Mobile and 6 Months for Accessories\n",
            "Redmi Note 7 Pro (Neptune Blue, 128 GB)4.580,758 Ratings & 7,462 Reviews6 GB RAM | 128 GB ROM | Expandable Upto 256 GB16.0 cm (6.3 inch) FHD+ Display48MP + 5MP | 13MP Front Camera4000 mAh Li-polymer BatteryQualcomm Snapdragon 675 ProcessorSplash Proof - Protected by P2iQuick Charge 4.0 SupportBrand Warranty of 1 Year Available for Mobile and 6 Months for Accessories\n",
            "Redmi 6 (Blue, 64 GB)4.44,51,001 Ratings & 34,443 Reviews3 GB RAM | 64 GB ROM | Expandable Upto 256 GB13.84 cm (5.45 inch) HD+ Display12MP + 5MP | 5MP Front Camera3000 mAh Lithium-polymer Battery2.0 GHz Mediatek P22 Octacore ProcessorBrand Warranty of 1 Year Available for Mobile and 6 Months for Accessories\n",
            "Redmi 6 (Rose Gold, 64 GB)4.44,51,001 Ratings & 34,443 Reviews3 GB RAM | 64 GB ROM | Expandable Upto 256 GB13.84 cm (5.45 inch) HD+ Display12MP + 5MP | 5MP Front Camera3000 mAh Lithium-polymer Battery2.0 GHz Mediatek P22 Octacore ProcessorBrand Warranty of 1 Year Available for Mobile and 6 Months for Accessories\n",
            "Redmi 7A (Matte Blue, 16 GB)4.63,205 Ratings & 185 Reviews2 GB RAM | 16 GB ROM | Expandable Upto 256 GB13.84 cm (5.45 inch) HD+ Display12MP Rear Camera | 5MP Front Camera4000 mAh Li-Polymer BatteryQualcomm Snapdragon 439 ProcessorBrand Warranty of 2 Years Available for Mobile and 6 Months for Accessories\n",
            "Redmi Note 7S (Ruby Red, 32 GB)4.478,784 Ratings & 7,313 Reviews3 GB RAM | 32 GB ROM | Expandable Upto 256 GB16.0 cm (6.3 inch) FHD+ Display48MP + 5MP | 13MP Front Camera4000 mAh BatteryQualcomm Snapdragon 660 AIE ProcessorSplash Proof - Protected by P2iQuick Charge 4.0 SupportBrand Warranty of 1 Year Available for Mobile and 6 Months for Accessories\n",
            "Redmi K20 Pro (Flame Red, 128 GB)4.7418 Ratings & 74 Reviews6 GB RAM | 128 GB ROM |16.23 cm (6.39 inch) FHD+ Display48MP + 13, 8MP | 20MP Front Camera4000 mAh Li-polymer BatteryQualcomm Snapdragon 855 ProcessorBrand Warranty of 1 Year Available for Mobile and 6 Months for Accessories\n",
            "Redmi 6 (Black, 64 GB)4.44,51,001 Ratings & 34,443 Reviews3 GB RAM | 64 GB ROM | Expandable Upto 256 GB13.84 cm (5.45 inch) HD+ Display12MP + 5MP | 5MP Front Camera3000 mAh Lithium-polymer Battery2.0 GHz Mediatek P22 Octacore ProcessorBrand Warranty of 1 Year Available for Mobile and 6 Months for Accessories\n",
            "Redmi Note 7S (Ruby Red, 64 GB)4.420,655 Ratings & 1,649 Reviews4 GB RAM | 64 GB ROM | Expandable Upto 256 GB16.0 cm (6.3 inch) FHD+ Display48MP + 5MP | 13MP Front Camera4000 mAh BatteryQualcomm Snapdragon 660 AIE ProcessorSplash Proof - Protected by P2iQuick Charge 4.0 SupportBrand Warranty of 1 Year Available for Mobile and 6 Months for Accessories\n",
            "Redmi K20 Pro (Carbon Black, 128 GB)4.7418 Ratings & 74 Reviews6 GB RAM | 128 GB ROM |16.23 cm (6.39 inch) FHD+ Display48MP + 13, 8MP | 20MP Front Camera4000 mAh Li-polymer BatteryQualcomm Snapdragon 855 ProcessorBrand Warranty of 1 Year Available for Mobile and 6 Months for Accessories\n",
            "Redmi Y2 (Black, 64 GB)4.414,293 Ratings & 1,064 Reviews4 GB RAM | 64 GB ROM | Expandable Upto 256 GB15.21 cm (5.99 inch) HD+ Display12MP + 5MP | 16MP Front Camera3080 mAh Li Polymer BatteryQualcomm Snapdragon 625 ProcessorBrand Warranty of 1 Year Available for Mobile and 6 Months for Accessories\n",
            "Redmi K20 Pro (Carbon Black, 256 GB)4.8113 Ratings & 17 Reviews8 GB RAM | 256 GB ROM |16.23 cm (6.39 inch) FHD+ Display48MP + 13, 8MP | 20MP Front Camera4000 mAh Li-polymer BatteryQualcomm Snapdragon 855 ProcessorBrand Warranty of 1 Year Available for Mobile and 6 Months for Accessories\n",
            "Redmi K20 (Glacier Blue, 64 GB)4.7326 Ratings & 54 Reviews6 GB RAM | 64 GB ROM |16.23 cm (6.39 inch) FHD+ Display48MP + 13, 8MP | 20MP Front Camera4000 mAh Li-polymer BatteryQualcomm Snapdragon 730 ProcessorBrand Warranty of 1 Year Available for Mobile and 6 Months for Accessories\n",
            "Redmi K20 (Flame Red, 64 GB)4.7326 Ratings & 54 Reviews6 GB RAM | 64 GB ROM |16.23 cm (6.39 inch) FHD+ Display48MP + 13, 8MP | 20MP Front Camera4000 mAh Li-polymer BatteryQualcomm Snapdragon 730 ProcessorBrand Warranty of 1 Year Available for Mobile and 6 Months for Accessories\n"
          ],
          "name": "stdout"
        }
      ]
    },
    {
      "cell_type": "code",
      "metadata": {
        "id": "5U6pCwmbjao6",
        "colab_type": "code",
        "outputId": "439366fe-993a-486a-c1a7-8b7c62011291",
        "colab": {
          "base_uri": "https://localhost:8080/",
          "height": 1000
        }
      },
      "source": [
        "\"\"\"getting data from each page availables\"\"\"\n",
        "for each in soup.find_all(class_='_2Xp0TH'):\n",
        "  print('you are on page ',each.get_text())\n",
        "  new_url='https://'+domain+each.get('href')\n",
        "  response = requests.get(my_url)\n",
        "  html=response.text\n",
        "  soup1=BeautifulSoup(html, \"html.parser\")\n",
        "  for each in soup1.find_all(class_='_3wU53n'):\n",
        "    print(each.get_text())\n",
        "  "
      ],
      "execution_count": 36,
      "outputs": [
        {
          "output_type": "stream",
          "text": [
            "you are on page  1\n",
            "Redmi 7A (Matte Blue, 32 GB)\n",
            "Redmi 7A (Matte Black, 32 GB)\n",
            "Redmi Note 7 Pro (Space Black, 64 GB)\n",
            "Redmi 7A (Matte Black, 16 GB)\n",
            "Redmi Note 7 Pro (Neptune Blue, 64 GB)\n",
            "Redmi 6 (Gold, 64 GB)\n",
            "Redmi Note 7S (Sapphire Blue, 64 GB)\n",
            "Redmi Note 7S (Onyx Black, 64 GB)\n",
            "Redmi Note 7S (Onyx Black, 32 GB)\n",
            "Redmi Note 7S (Sapphire Blue, 32 GB)\n",
            "Redmi 7A (Matte Gold, 16 GB)\n",
            "Redmi Note 7 Pro (Neptune Blue, 128 GB)\n",
            "Redmi 6 (Blue, 64 GB)\n",
            "Redmi 6 (Rose Gold, 64 GB)\n",
            "Redmi 7A (Matte Blue, 16 GB)\n",
            "Redmi Note 7S (Ruby Red, 32 GB)\n",
            "Redmi K20 Pro (Flame Red, 128 GB)\n",
            "Redmi 6 (Black, 64 GB)\n",
            "Redmi Note 7S (Ruby Red, 64 GB)\n",
            "Redmi K20 Pro (Carbon Black, 128 GB)\n",
            "Redmi Y2 (Black, 64 GB)\n",
            "Redmi K20 Pro (Carbon Black, 256 GB)\n",
            "Redmi K20 (Glacier Blue, 64 GB)\n",
            "Redmi K20 (Flame Red, 64 GB)\n",
            "you are on page  2\n",
            "Redmi 7A (Matte Blue, 32 GB)\n",
            "Redmi 7A (Matte Black, 32 GB)\n",
            "Redmi Note 7 Pro (Space Black, 64 GB)\n",
            "Redmi 7A (Matte Black, 16 GB)\n",
            "Redmi Note 7 Pro (Neptune Blue, 64 GB)\n",
            "Redmi 6 (Gold, 64 GB)\n",
            "Redmi Note 7S (Sapphire Blue, 64 GB)\n",
            "Redmi Note 7S (Onyx Black, 64 GB)\n",
            "Redmi Note 7S (Onyx Black, 32 GB)\n",
            "Redmi Note 7S (Sapphire Blue, 32 GB)\n",
            "Redmi 7A (Matte Gold, 16 GB)\n",
            "Redmi Note 7 Pro (Neptune Blue, 128 GB)\n",
            "Redmi 6 (Blue, 64 GB)\n",
            "Redmi 6 (Rose Gold, 64 GB)\n",
            "Redmi 7A (Matte Blue, 16 GB)\n",
            "Redmi Note 7S (Ruby Red, 32 GB)\n",
            "Redmi K20 Pro (Flame Red, 128 GB)\n",
            "Redmi 6 (Black, 64 GB)\n",
            "Redmi Note 7S (Ruby Red, 64 GB)\n",
            "Redmi K20 Pro (Carbon Black, 128 GB)\n",
            "Redmi Y2 (Black, 64 GB)\n",
            "Redmi K20 Pro (Carbon Black, 256 GB)\n",
            "Redmi K20 (Glacier Blue, 64 GB)\n",
            "Redmi K20 (Flame Red, 64 GB)\n",
            "you are on page  3\n",
            "Redmi 7A (Matte Blue, 32 GB)\n",
            "Redmi 7A (Matte Black, 32 GB)\n",
            "Redmi Note 7 Pro (Space Black, 64 GB)\n",
            "Redmi 7A (Matte Black, 16 GB)\n",
            "Redmi Note 7 Pro (Neptune Blue, 64 GB)\n",
            "Redmi 6 (Gold, 64 GB)\n",
            "Redmi Note 7S (Sapphire Blue, 64 GB)\n",
            "Redmi Note 7S (Onyx Black, 64 GB)\n",
            "Redmi Note 7S (Onyx Black, 32 GB)\n",
            "Redmi Note 7S (Sapphire Blue, 32 GB)\n",
            "Redmi 7A (Matte Gold, 16 GB)\n",
            "Redmi Note 7 Pro (Neptune Blue, 128 GB)\n",
            "Redmi 6 (Blue, 64 GB)\n",
            "Redmi 6 (Rose Gold, 64 GB)\n",
            "Redmi 7A (Matte Blue, 16 GB)\n",
            "Redmi Note 7S (Ruby Red, 32 GB)\n",
            "Redmi K20 Pro (Flame Red, 128 GB)\n",
            "Redmi 6 (Black, 64 GB)\n",
            "Redmi Note 7S (Ruby Red, 64 GB)\n",
            "Redmi K20 Pro (Carbon Black, 128 GB)\n",
            "Redmi Y2 (Black, 64 GB)\n",
            "Redmi K20 Pro (Carbon Black, 256 GB)\n",
            "Redmi K20 (Glacier Blue, 64 GB)\n",
            "Redmi K20 (Flame Red, 64 GB)\n",
            "you are on page  4\n",
            "Redmi 7A (Matte Blue, 32 GB)\n",
            "Redmi 7A (Matte Black, 32 GB)\n",
            "Redmi Note 7 Pro (Space Black, 64 GB)\n",
            "Redmi 7A (Matte Black, 16 GB)\n",
            "Redmi Note 7 Pro (Neptune Blue, 64 GB)\n",
            "Redmi 6 (Gold, 64 GB)\n",
            "Redmi Note 7S (Sapphire Blue, 64 GB)\n",
            "Redmi Note 7S (Onyx Black, 64 GB)\n",
            "Redmi Note 7S (Onyx Black, 32 GB)\n",
            "Redmi Note 7S (Sapphire Blue, 32 GB)\n",
            "Redmi 7A (Matte Gold, 16 GB)\n",
            "Redmi Note 7 Pro (Neptune Blue, 128 GB)\n",
            "Redmi 6 (Blue, 64 GB)\n",
            "Redmi 6 (Rose Gold, 64 GB)\n",
            "Redmi 7A (Matte Blue, 16 GB)\n",
            "Redmi Note 7S (Ruby Red, 32 GB)\n",
            "Redmi K20 Pro (Flame Red, 128 GB)\n",
            "Redmi 6 (Black, 64 GB)\n",
            "Redmi Note 7S (Ruby Red, 64 GB)\n",
            "Redmi K20 Pro (Carbon Black, 128 GB)\n",
            "Redmi Y2 (Black, 64 GB)\n",
            "Redmi K20 Pro (Carbon Black, 256 GB)\n",
            "Redmi K20 (Glacier Blue, 64 GB)\n",
            "Redmi K20 (Flame Red, 64 GB)\n",
            "you are on page  5\n",
            "Redmi 7A (Matte Blue, 32 GB)\n",
            "Redmi 7A (Matte Black, 32 GB)\n",
            "Redmi Note 7 Pro (Space Black, 64 GB)\n",
            "Redmi 7A (Matte Black, 16 GB)\n",
            "Redmi Note 7 Pro (Neptune Blue, 64 GB)\n",
            "Redmi 6 (Gold, 64 GB)\n",
            "Redmi Note 7S (Sapphire Blue, 64 GB)\n",
            "Redmi Note 7S (Onyx Black, 64 GB)\n",
            "Redmi Note 7S (Onyx Black, 32 GB)\n",
            "Redmi Note 7S (Sapphire Blue, 32 GB)\n",
            "Redmi 7A (Matte Gold, 16 GB)\n",
            "Redmi Note 7 Pro (Neptune Blue, 128 GB)\n",
            "Redmi 6 (Blue, 64 GB)\n",
            "Redmi 6 (Rose Gold, 64 GB)\n",
            "Redmi 7A (Matte Blue, 16 GB)\n",
            "Redmi Note 7S (Ruby Red, 32 GB)\n",
            "Redmi K20 Pro (Flame Red, 128 GB)\n",
            "Redmi 6 (Black, 64 GB)\n",
            "Redmi Note 7S (Ruby Red, 64 GB)\n",
            "Redmi K20 Pro (Carbon Black, 128 GB)\n",
            "Redmi Y2 (Black, 64 GB)\n",
            "Redmi K20 Pro (Carbon Black, 256 GB)\n",
            "Redmi K20 (Glacier Blue, 64 GB)\n",
            "Redmi K20 (Flame Red, 64 GB)\n",
            "you are on page  6\n",
            "Redmi 7A (Matte Blue, 32 GB)\n",
            "Redmi 7A (Matte Black, 32 GB)\n",
            "Redmi Note 7 Pro (Space Black, 64 GB)\n",
            "Redmi 7A (Matte Black, 16 GB)\n",
            "Redmi Note 7 Pro (Neptune Blue, 64 GB)\n",
            "Redmi 6 (Gold, 64 GB)\n",
            "Redmi Note 7S (Sapphire Blue, 64 GB)\n",
            "Redmi Note 7S (Onyx Black, 64 GB)\n",
            "Redmi Note 7S (Onyx Black, 32 GB)\n",
            "Redmi Note 7S (Sapphire Blue, 32 GB)\n",
            "Redmi 7A (Matte Gold, 16 GB)\n",
            "Redmi Note 7 Pro (Neptune Blue, 128 GB)\n",
            "Redmi 6 (Blue, 64 GB)\n",
            "Redmi 6 (Rose Gold, 64 GB)\n",
            "Redmi 7A (Matte Blue, 16 GB)\n",
            "Redmi Note 7S (Ruby Red, 32 GB)\n",
            "Redmi K20 Pro (Flame Red, 128 GB)\n",
            "Redmi 6 (Black, 64 GB)\n",
            "Redmi Note 7S (Ruby Red, 64 GB)\n",
            "Redmi K20 Pro (Carbon Black, 128 GB)\n",
            "Redmi Y2 (Black, 64 GB)\n",
            "Redmi K20 Pro (Carbon Black, 256 GB)\n",
            "Redmi K20 (Glacier Blue, 64 GB)\n",
            "Redmi K20 (Flame Red, 64 GB)\n",
            "you are on page  7\n",
            "Redmi 7A (Matte Blue, 32 GB)\n",
            "Redmi 7A (Matte Black, 32 GB)\n",
            "Redmi Note 7 Pro (Space Black, 64 GB)\n",
            "Redmi 7A (Matte Black, 16 GB)\n",
            "Redmi Note 7 Pro (Neptune Blue, 64 GB)\n",
            "Redmi 6 (Gold, 64 GB)\n",
            "Redmi Note 7S (Sapphire Blue, 64 GB)\n",
            "Redmi Note 7S (Onyx Black, 64 GB)\n",
            "Redmi Note 7S (Onyx Black, 32 GB)\n",
            "Redmi Note 7S (Sapphire Blue, 32 GB)\n",
            "Redmi 7A (Matte Gold, 16 GB)\n",
            "Redmi Note 7 Pro (Neptune Blue, 128 GB)\n",
            "Redmi 6 (Rose Gold, 64 GB)\n",
            "Redmi 6 (Blue, 64 GB)\n",
            "Redmi 7A (Matte Blue, 16 GB)\n",
            "Redmi Note 7S (Ruby Red, 32 GB)\n",
            "Redmi K20 Pro (Flame Red, 128 GB)\n",
            "Redmi 6 (Black, 64 GB)\n",
            "Redmi Note 7S (Ruby Red, 64 GB)\n",
            "Redmi K20 Pro (Carbon Black, 128 GB)\n",
            "Redmi Y2 (Black, 64 GB)\n",
            "Redmi K20 Pro (Carbon Black, 256 GB)\n",
            "Redmi K20 (Glacier Blue, 64 GB)\n",
            "Redmi K20 (Flame Red, 64 GB)\n",
            "you are on page  8\n",
            "Redmi 7A (Matte Blue, 32 GB)\n",
            "Redmi 7A (Matte Black, 32 GB)\n",
            "Redmi Note 7 Pro (Space Black, 64 GB)\n",
            "Redmi 7A (Matte Black, 16 GB)\n",
            "Redmi Note 7 Pro (Neptune Blue, 64 GB)\n",
            "Redmi 6 (Gold, 64 GB)\n",
            "Redmi Note 7S (Sapphire Blue, 64 GB)\n",
            "Redmi Note 7S (Onyx Black, 64 GB)\n",
            "Redmi Note 7S (Onyx Black, 32 GB)\n",
            "Redmi Note 7S (Sapphire Blue, 32 GB)\n",
            "Redmi 7A (Matte Gold, 16 GB)\n",
            "Redmi Note 7 Pro (Neptune Blue, 128 GB)\n",
            "Redmi 6 (Blue, 64 GB)\n",
            "Redmi 6 (Rose Gold, 64 GB)\n",
            "Redmi 7A (Matte Blue, 16 GB)\n",
            "Redmi Note 7S (Ruby Red, 32 GB)\n",
            "Redmi K20 Pro (Flame Red, 128 GB)\n",
            "Redmi 6 (Black, 64 GB)\n",
            "Redmi Note 7S (Ruby Red, 64 GB)\n",
            "Redmi K20 Pro (Carbon Black, 128 GB)\n",
            "Redmi Y2 (Black, 64 GB)\n",
            "Redmi K20 Pro (Carbon Black, 256 GB)\n",
            "Redmi K20 (Glacier Blue, 64 GB)\n",
            "Redmi K20 (Flame Red, 64 GB)\n"
          ],
          "name": "stdout"
        }
      ]
    },
    {
      "cell_type": "code",
      "metadata": {
        "id": "HNZbzq31vPRd",
        "colab_type": "code",
        "colab": {
          "base_uri": "https://localhost:8080/",
          "height": 35
        },
        "outputId": "cd1873a2-b4e3-472e-db0d-9d4cfca3afc0"
      },
      "source": [
        "soup.title.string"
      ],
      "execution_count": 41,
      "outputs": [
        {
          "output_type": "execute_result",
          "data": {
            "text/plain": [
              "'Mi Mobile Phones (MI मोबाइल) and Smartphones Online at Lowest Prices in India'"
            ]
          },
          "metadata": {
            "tags": []
          },
          "execution_count": 41
        }
      ]
    }
  ]
}